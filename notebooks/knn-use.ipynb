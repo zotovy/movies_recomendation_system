{
 "cells": [
  {
   "cell_type": "code",
   "execution_count": 11,
   "id": "9eb7f24a-cabe-4189-b7d4-caa46033c4b8",
   "metadata": {},
   "outputs": [],
   "source": [
    "import pickle\n",
    "import json\n",
    "import numpy as np\n",
    "from scipy.sparse import csr_matrix"
   ]
  },
  {
   "cell_type": "code",
   "execution_count": 15,
   "id": "af740cad-99fb-48b7-91cf-29014dbb5399",
   "metadata": {},
   "outputs": [],
   "source": [
    "model = pickle.load(open('knn', 'rb'))"
   ]
  },
  {
   "cell_type": "code",
   "execution_count": 12,
   "id": "673809a6-d545-492e-a259-785cee8af258",
   "metadata": {},
   "outputs": [],
   "source": [
    "def create_new_row(movie_ratings, movie_to_index, num_movies):\n",
    "    \"\"\"\n",
    "    Создает новую строку для разреженной матрицы на основе переданных рейтингов фильмов.\n",
    "\n",
    "    :param movie_ratings: Словарь, где ключ - movieId, значение - рейтинг\n",
    "    :param movie_to_index: Словарь для преобразования movieId в индекс\n",
    "    :param num_movies: Общее количество фильмов\n",
    "    :return: csr_matrix (разреженная матрица) с одной строкой\n",
    "    \"\"\"\n",
    "    row = np.zeros(num_movies)\n",
    "    \n",
    "    for movie_id, rating in movie_ratings.items():\n",
    "        if str(movie_id) in movie_to_index:\n",
    "            index = int(movie_to_index[str(movie_id)])\n",
    "            row[index] = rating\n",
    "    \n",
    "    return csr_matrix(row)"
   ]
  },
  {
   "cell_type": "code",
   "execution_count": 22,
   "id": "37226757-2812-4530-b6c6-1d2d1a0f427f",
   "metadata": {},
   "outputs": [],
   "source": [
    "with open('movie_to_index.json') as json_file:\n",
    "    movie_to_index = json.load(json_file)\n",
    "    user = create_new_row({597: 5}, movie_to_index, 45115)\n",
    "    distances, user_ids = model.kneighbors(user, n_neighbors=21)\n",
    "    similar_users = user_ids[0][1:]\n",
    "    distances = distances[0][1:]"
   ]
  },
  {
   "cell_type": "code",
   "execution_count": 23,
   "id": "11daf23f-aa93-468d-aacb-ac0ff448e70c",
   "metadata": {},
   "outputs": [
    {
     "data": {
      "text/plain": [
       "array([260062,  42668, 221735, 126033, 115476,  88134,  91374,  60672,\n",
       "        34626,   9824,  71058,  30014,  42003,  39291, 102171, 195419,\n",
       "        46745, 196299, 197893,  73217])"
      ]
     },
     "execution_count": 23,
     "metadata": {},
     "output_type": "execute_result"
    }
   ],
   "source": [
    "similar_users"
   ]
  },
  {
   "cell_type": "code",
   "execution_count": 24,
   "id": "dfaaa24b-3c96-4d8f-818a-5a007c66044e",
   "metadata": {},
   "outputs": [
    {
     "data": {
      "text/plain": [
       "array([0.        , 0.25464401, 0.25464401, 0.35948738, 0.38219794,\n",
       "       0.39366094, 0.42264973, 0.43745605, 0.43988797, 0.44784237,\n",
       "       0.45445527, 0.47018706, 0.47585758, 0.49199949, 0.5       ,\n",
       "       0.5       , 0.50763404, 0.50763404, 0.51204996, 0.52108686])"
      ]
     },
     "execution_count": 24,
     "metadata": {},
     "output_type": "execute_result"
    }
   ],
   "source": [
    "distances"
   ]
  }
 ],
 "metadata": {
  "kernelspec": {
   "display_name": "Python 3 (ipykernel)",
   "language": "python",
   "name": "python3"
  },
  "language_info": {
   "codemirror_mode": {
    "name": "ipython",
    "version": 3
   },
   "file_extension": ".py",
   "mimetype": "text/x-python",
   "name": "python",
   "nbconvert_exporter": "python",
   "pygments_lexer": "ipython3",
   "version": "3.11.2"
  }
 },
 "nbformat": 4,
 "nbformat_minor": 5
}
