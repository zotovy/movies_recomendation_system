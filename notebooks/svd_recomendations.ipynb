{
 "cells": [
  {
   "cell_type": "code",
   "execution_count": 17,
   "id": "9e2234bd-4e20-43c1-98ec-a32d1e1247d7",
   "metadata": {},
   "outputs": [],
   "source": [
    "from surprise import Dataset, Reader, SVD, SVDpp\n",
    "from surprise import BaselineOnly, KNNBasic, Dataset\n",
    "from surprise.model_selection import train_test_split\n",
    "from sklearn.neighbors import NearestNeighbors\n",
    "import numpy as np\n",
    "import pandas as pd\n",
    "from surprise import accuracy\n",
    "from surprise.model_selection import cross_validate\n",
    "from surprise.model_selection import GridSearchCV\n",
    "import matplotlib.pyplot as plt\n",
    "import pickle\n",
    "\n",
    "from surprise import SVD, SVDpp, SlopeOne, NMF, NormalPredictor, KNNBaseline, KNNBasic, KNNWithMeans, KNNWithZScore, BaselineOnly, CoClustering"
   ]
  },
  {
   "cell_type": "markdown",
   "id": "b167178a-4fb3-4df9-92b0-df0d47f3f555",
   "metadata": {},
   "source": [
    "# Обработка данных"
   ]
  },
  {
   "cell_type": "code",
   "execution_count": 3,
   "id": "44ea904e-28f6-4516-adcf-fb7c610ecece",
   "metadata": {},
   "outputs": [],
   "source": [
    "# Загрузка данных\n",
    "data_df = pd.read_csv('../datasets/movies-dataset/ratings_small.csv')\n",
    "metadata = pd.read_csv('../datasets/own-dataset/movies.csv', low_memory=False)\n",
    "metadata.id = pd.to_numeric(metadata.id, errors='coerce')"
   ]
  },
  {
   "cell_type": "code",
   "execution_count": 5,
   "id": "29578fab-506b-4d49-9a5f-e17a97c343a0",
   "metadata": {},
   "outputs": [],
   "source": [
    "# Убираем рейтинги на несуществующие фильмы\n",
    "data_df = data_df[data_df.movieId.isin(metadata.id)]"
   ]
  },
  {
   "cell_type": "code",
   "execution_count": 202,
   "id": "3eefd740-c63e-4f9b-93dd-831d35372bea",
   "metadata": {},
   "outputs": [
    {
     "data": {
      "image/png": "[encoded data removed]",
      "text/plain": [
       "<Figure size 640x480 with 1 Axes>"
      ]
     },
     "metadata": {},
     "output_type": "display_data"
    }
   ],
   "source": [
    "ratings_count = data_df.groupby('userId')['rating'].count()\n",
    "users_count = ratings_count.groupby(ratings_count).count()\n",
    "\n",
    "plt.bar(users_count.index, users_count.values)\n",
    "plt.xlabel('Number of Ratings')\n",
    "plt.ylabel('Number of Users')\n",
    "plt.title('Number of Users by Number of Ratings')\n",
    "plt.show()"
   ]
  },
  {
   "cell_type": "code",
   "execution_count": 6,
   "id": "8d96ae03-18cd-4949-8d99-b5836b247ede",
   "metadata": {},
   "outputs": [],
   "source": [
    "reader = Reader(line_format='user item rating',  sep='\\t', rating_scale=(1, 5))"
   ]
  },
  {
   "cell_type": "code",
   "execution_count": 7,
   "id": "1a48baea-f100-4186-a206-f58de9c0876f",
   "metadata": {},
   "outputs": [],
   "source": [
    "data = Dataset.load_from_df(data_df[['userId', 'movieId', 'rating']], reader)"
   ]
  },
  {
   "cell_type": "markdown",
   "id": "3deb75cd-9ae2-4f11-bc48-58a7e3fc00c3",
   "metadata": {},
   "source": [
    "# Обучение"
   ]
  },
  {
   "cell_type": "markdown",
   "id": "fdf20d93-79bd-42f8-a627-40e34bd23562",
   "metadata": {},
   "source": [
    "### Ищем оптимальные параметры для SVD"
   ]
  },
  {
   "cell_type": "code",
   "execution_count": 188,
   "id": "d2b0bc52-2978-47e8-97a0-d15f998d7a47",
   "metadata": {},
   "outputs": [],
   "source": [
    "param_grid = {\n",
    "    'n_factors': [100, 200, 300, 400],\n",
    "    'n_epochs': [10, 43, 75, 100],\n",
    "    'lr_all': [0.001, 0.01, 0.05],\n",
    "    'reg_all': [0.02, 0.1, 0.2],\n",
    "}\n",
    "\n",
    "grid_search = GridSearchCV(SVD, param_grid, measures=['rmse'], cv=5)\n",
    "grid_search.fit(data)"
   ]
  },
  {
   "cell_type": "code",
   "execution_count": 189,
   "id": "f1c77f48-4bdf-4efe-8806-fafbb68ec62e",
   "metadata": {},
   "outputs": [
    {
     "name": "stdout",
     "output_type": "stream",
     "text": [
      "Best params: {'n_factors': 200, 'n_epochs': 100, 'lr_all': 0.01, 'reg_all': 0.1}\n",
      "RMSE score: 0.8766008248837884\n"
     ]
    }
   ],
   "source": [
    "best_params = grid_search.best_params['rmse']\n",
    "print(\"Best params:\", best_params)\n",
    "print(\"RMSE score:\", grid_search.best_score['rmse'])"
   ]
  },
  {
   "cell_type": "markdown",
   "id": "5fb5ebb8-92b8-4656-bcec-40571db3e1a3",
   "metadata": {},
   "source": [
    "### Сравнение с другими алгоритмами"
   ]
  },
  {
   "cell_type": "code",
   "execution_count": 105,
   "id": "cec18e0a-896b-44cd-8f66-76629a22ca15",
   "metadata": {},
   "outputs": [
    {
     "name": "stdout",
     "output_type": "stream",
     "text": [
      "Estimating biases using als...\n",
      "Estimating biases using als...\n",
      "Estimating biases using als...\n",
      "Estimating biases using als...\n",
      "Estimating biases using als...\n",
      "Evaluating RMSE of algorithm BaselineOnly on 5 split(s).\n",
      "\n",
      "                  Fold 1  Fold 2  Fold 3  Fold 4  Fold 5  Mean    Std     \n",
      "RMSE (testset)    0.8960  0.8900  0.9017  0.8990  0.8948  0.8963  0.0040  \n",
      "Fit time          0.02    0.02    0.02    0.02    0.02    0.02    0.00    \n",
      "Test time         0.01    0.01    0.01    0.10    0.01    0.03    0.03    \n"
     ]
    }
   ],
   "source": [
    "# Базовая модель, предсказывающая средний рейтинг\n",
    "algo_base = BaselineOnly()\n",
    "results_base = cross_validate(algo_base, data, measures=['RMSE'], cv=5, verbose=True)"
   ]
  },
  {
   "cell_type": "code",
   "execution_count": 106,
   "id": "bb31ecf1-0788-4dac-9c3c-0a576c512621",
   "metadata": {},
   "outputs": [
    {
     "name": "stdout",
     "output_type": "stream",
     "text": [
      "Computing the msd similarity matrix...\n",
      "Done computing similarity matrix.\n",
      "Computing the msd similarity matrix...\n",
      "Done computing similarity matrix.\n",
      "Computing the msd similarity matrix...\n",
      "Done computing similarity matrix.\n",
      "Computing the msd similarity matrix...\n",
      "Done computing similarity matrix.\n",
      "Computing the msd similarity matrix...\n",
      "Done computing similarity matrix.\n",
      "Evaluating RMSE of algorithm KNNBasic on 5 split(s).\n",
      "\n",
      "                  Fold 1  Fold 2  Fold 3  Fold 4  Fold 5  Mean    Std     \n",
      "RMSE (testset)    0.9632  0.9591  0.9629  0.9464  0.9432  0.9550  0.0085  \n",
      "Fit time          0.02    0.02    0.02    0.02    0.02    0.02    0.00    \n",
      "Test time         0.21    0.23    0.25    0.23    0.21    0.23    0.01    \n"
     ]
    }
   ],
   "source": [
    "# Базовая модель, основанная на KNN\n",
    "algo_knn = KNNBasic()\n",
    "results_knn = cross_validate(algo_knn, data, measures=['RMSE'], cv=5, verbose=True)"
   ]
  },
  {
   "cell_type": "code",
   "execution_count": 154,
   "id": "2a8f32d3-b7c5-42b4-b014-2a3dd06b90e9",
   "metadata": {},
   "outputs": [],
   "source": [
    "algo_svdpp = SVDpp(n_factors=200, n_epochs=35, lr_all=0.01, reg_all=0.1)"
   ]
  },
  {
   "cell_type": "code",
   "execution_count": 155,
   "id": "d603868e-0a1c-4d13-980c-00e2a3cf5350",
   "metadata": {},
   "outputs": [
    {
     "name": "stdout",
     "output_type": "stream",
     "text": [
      "Evaluating RMSE of algorithm SVDpp on 5 split(s).\n",
      "\n",
      "                  Fold 1  Fold 2  Fold 3  Fold 4  Fold 5  Mean    Std     \n",
      "RMSE (testset)    0.8773  0.8726  0.8840  0.8738  0.8781  0.8772  0.0040  \n",
      "Fit time          28.29   28.18   28.31   28.45   28.28   28.30   0.09    \n",
      "Test time         0.54    0.55    0.55    0.54    0.54    0.54    0.00    \n"
     ]
    }
   ],
   "source": [
    "algo_svdpp = cross_validate(algo_svdpp, data, measures=['RMSE'], cv=5, verbose=True)"
   ]
  },
  {
   "cell_type": "markdown",
   "id": "b66efeb8-1026-44b7-a373-ccb656d3b135",
   "metadata": {},
   "source": [
    "### Обучение модели SVD на лучших параметрах"
   ]
  },
  {
   "cell_type": "code",
   "execution_count": 8,
   "id": "ea8705e0-ec94-4686-ad6f-9031c2736653",
   "metadata": {},
   "outputs": [
    {
     "data": {
      "text/plain": [
       "<surprise.prediction_algorithms.matrix_factorization.SVD at 0x17de0c110>"
      ]
     },
     "execution_count": 8,
     "metadata": {},
     "output_type": "execute_result"
    }
   ],
   "source": [
    "# Разделение данных на обучающую и тестовую выборки\n",
    "full_train_set = data.build_full_trainset()\n",
    "\n",
    "# Обучение модели с лучшими параметрами на обучающей выборке\n",
    "model = SVD(n_epochs=35, lr_all=0.01, reg_all=0.1)\n",
    "model.fit(full_train_set)"
   ]
  },
  {
   "cell_type": "markdown",
   "id": "03730480-2221-45d3-b0e0-0365a3943bb6",
   "metadata": {},
   "source": [
    "### Сохранение модели SVD"
   ]
  },
  {
   "cell_type": "code",
   "execution_count": 223,
   "id": "3c7ca95b-8a3c-4640-a039-1eb4b594c673",
   "metadata": {},
   "outputs": [],
   "source": [
    "with open('svd_model.pkl', 'wb') as f:\n",
    "    pickle.dump(model, f)"
   ]
  },
  {
   "cell_type": "markdown",
   "id": "548800d5-ca2c-403c-8674-7c565147edc9",
   "metadata": {},
   "source": [
    "# Использование модели "
   ]
  },
  {
   "cell_type": "markdown",
   "id": "1a040af2-214e-4975-8c70-4b7157e9c6a8",
   "metadata": {},
   "source": [
    "### Получение лучших N фильмов для существующего пользователя"
   ]
  },
  {
   "cell_type": "code",
   "execution_count": 237,
   "id": "a479071d-59db-4df0-b8d5-e27e3cc538c3",
   "metadata": {},
   "outputs": [
    {
     "data": {
      "text/plain": [
       "[(44555, 4.49475397327648),\n",
       " (1262, 4.480729482729906),\n",
       " (745, 4.420916124923656)]"
      ]
     },
     "execution_count": 237,
     "metadata": {},
     "output_type": "execute_result"
    }
   ],
   "source": [
    "def get_top_n_movies(user_id, n = 10):\n",
    "    # Берем только те фильмы, которые пользователь еще не оценил\n",
    "    items_to_predict = [item for item in trainset.build_anti_testset() if item[0] == user_id]\n",
    "\n",
    "    # Предсказываем их оценки\n",
    "    predictions = model.test(items_to_predict)\n",
    "\n",
    "    # Сортировка предсказанных рейтингов по убыванию\n",
    "    top_n_recommendations = sorted(predictions, key=lambda x: x.est, reverse=True)[:n]\n",
    "    \n",
    "    # Получение идентификаторов фильмов и предсказанных рейтингов\n",
    "    recommendations = [(pred.iid, pred.est) for pred in top_n_recommendations]\n",
    "    \n",
    "    return recommendations\n",
    "\n",
    "get_top_n_movies(196, n = 3)"
   ]
  },
  {
   "cell_type": "code",
   "execution_count": null,
   "id": "0039ff91-eebc-421c-8d09-b21886c738d3",
   "metadata": {},
   "outputs": [],
   "source": []
  }
 ],
 "metadata": {
  "kernelspec": {
   "display_name": "Python 3 (ipykernel)",
   "language": "python",
   "name": "python3"
  },
  "language_info": {
   "codemirror_mode": {
    "name": "ipython",
    "version": 3
   },
   "file_extension": ".py",
   "mimetype": "text/x-python",
   "name": "python",
   "nbconvert_exporter": "python",
   "pygments_lexer": "ipython3",
   "version": "3.11.2"
  }
 },
 "nbformat": 4,
 "nbformat_minor": 5
}
